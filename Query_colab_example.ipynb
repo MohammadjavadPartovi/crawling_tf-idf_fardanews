{
  "nbformat": 4,
  "nbformat_minor": 0,
  "metadata": {
    "colab": {
      "name": "Untitled0.ipynb",
      "provenance": [],
      "authorship_tag": "ABX9TyMP4Ief+f5hucSp0TY9ncQh",
      "include_colab_link": true
    },
    "kernelspec": {
      "name": "python3",
      "display_name": "Python 3"
    },
    "language_info": {
      "name": "python"
    }
  },
  "cells": [
    {
      "cell_type": "markdown",
      "metadata": {
        "id": "view-in-github",
        "colab_type": "text"
      },
      "source": [
        "<a href=\"https://colab.research.google.com/github/MohammadjavadPartovi/crawling_tf-idf_fardanews/blob/main/Query_colab_example.ipynb\" target=\"_parent\"><img src=\"https://colab.research.google.com/assets/colab-badge.svg\" alt=\"Open In Colab\"/></a>"
      ]
    },
    {
      "cell_type": "code",
      "execution_count": 2,
      "metadata": {
        "colab": {
          "base_uri": "https://localhost:8080/"
        },
        "id": "RV9rIkbn9DP9",
        "outputId": "d78d4da3-de95-42b6-fcd3-213fd436c1bd"
      },
      "outputs": [
        {
          "output_type": "stream",
          "name": "stdout",
          "text": [
            "698\n",
            "697\n",
            "(697, 2104) 2104\n",
            "['ورود', 'ارز', 'به', 'کشور', 'بدون', 'محدودیت', 'معاف', 'از', 'مالیات', 'قول']\n"
          ]
        },
        {
          "output_type": "stream",
          "name": "stderr",
          "text": [
            "697it [00:00, 1328.89it/s]"
          ]
        },
        {
          "output_type": "stream",
          "name": "stdout",
          "text": [
            "خبر خوش برای یارانه بگیران | مبلغ یارانه معیشتی تیر افزایش یافت 0.48499798093130864\n",
            "علل افزایش قیمت کالاها بعد از اصلاح یارانه ها 0.36581569147069737\n",
            "واریز یارانه ۳۰۰ هزار تومانی به جیب یارانه بگیران/ یارانه مسدود شده کی آزاد می شود؟ 0.35202419820284014\n",
            "خبر مهم درباره قطع یارانه این یارانه بگیران/ یارانه صاحبان این حساب های بانکی قطع می شود! 0.32279387277520044\n",
            "جاماندگان یارانه جدید بخوانند | یارانه چه کسانی واریز نشد؟ 0.3227220827907758\n",
            "خبر مهم درباره افزایش قیمت نان/نحوه پرداخت یارانه نان به مردم 0.31389021370066594\n",
            "خبر جدید از افزایش حقوق بازنشستگان | حقوق بازنشستگان 60 درصد افزایش می یابد؟ 0.3108772838626124\n",
            "افزایش قیمت بنزین در راه است؟ 0.30722927909103714\n",
            "خبر مهم درباره افزایش حقوق بازنشستگان تامین اجتماعی/بازنشستگان منتظر افزایش حقوق باشند 0.307156957411781\n",
            "جدیدترین خبرها از قطع یارانه نقدی | اعلام نتایج نهایی اعتراضات جاماندگان یارانه نقدی | یارانه بگیران حتما بخوانند 0.30507250591924256\n"
          ]
        },
        {
          "output_type": "stream",
          "name": "stderr",
          "text": [
            "\n"
          ]
        }
      ],
      "source": [
        "from sklearn.feature_extraction.text import TfidfVectorizer\n",
        "import json\n",
        "from sklearn.metrics.pairwise import cosine_similarity\n",
        "from tqdm import tqdm\n",
        "import numpy as np\n",
        "import pandas as pd\n",
        "\n",
        "\n",
        "df = pd.read_csv('fardanews2-1400 (1).csv')\n",
        "print(len(df))\n",
        "len(df)\n",
        "corpus = [x for x in df.to_dict(orient='index').values()]\n",
        "docs = [row['title'] for row in corpus if len(str(row.get('title'))) > 10]\n",
        "print(len(docs))\n",
        "len(docs)\n",
        "    \n",
        "\n",
        "vectorizer = TfidfVectorizer()\n",
        "tfidf_docs = vectorizer.fit_transform(docs)\n",
        "print(tfidf_docs.shape, len(vectorizer.vocabulary_))\n",
        "print(list(vectorizer.vocabulary_.keys())[:10])\n",
        "\n",
        "# query\n",
        "query = ' افزایش یارانه'\n",
        "tfidf_query = vectorizer.transform([query])[0]\n",
        "\n",
        "# similarities\n",
        "cosines = []\n",
        "for d in tqdm(tfidf_docs):\n",
        "  cosines.append(float(cosine_similarity(d, tfidf_query)))\n",
        "  \n",
        "# sorting\n",
        "k = 10\n",
        "sorted_ids = np.argsort(cosines)\n",
        "for i in range(k):\n",
        "  cur_id = sorted_ids[-i-1]\n",
        "  print(docs[cur_id], cosines[cur_id])\n",
        "  "
      ]
    }
  ]
}